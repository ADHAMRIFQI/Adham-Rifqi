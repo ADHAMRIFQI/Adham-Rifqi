{
 "cells": [
  {
   "cell_type": "code",
   "execution_count": 2,
   "id": "6445bd3e-a2a7-4b0e-87f4-b5c7e97b9ca6",
   "metadata": {},
   "outputs": [
    {
     "name": "stdout",
     "output_type": "stream",
     "text": [
      "Naive Bayes Accuracy: 1.0\n",
      "\n",
      "Naive Bayes Classification Report:\n",
      "              precision    recall  f1-score   support\n",
      "\n",
      "           0       1.00      1.00      1.00        10\n",
      "           1       1.00      1.00      1.00         9\n",
      "           2       1.00      1.00      1.00        11\n",
      "\n",
      "    accuracy                           1.00        30\n",
      "   macro avg       1.00      1.00      1.00        30\n",
      "weighted avg       1.00      1.00      1.00        30\n",
      "\n",
      "Logistic Regression Accuracy: 1.0\n",
      "\n",
      "Logistic Regression Classification Report:\n",
      "              precision    recall  f1-score   support\n",
      "\n",
      "           0       1.00      1.00      1.00        10\n",
      "           1       1.00      1.00      1.00         9\n",
      "           2       1.00      1.00      1.00        11\n",
      "\n",
      "    accuracy                           1.00        30\n",
      "   macro avg       1.00      1.00      1.00        30\n",
      "weighted avg       1.00      1.00      1.00        30\n",
      "\n"
     ]
    }
   ],
   "source": [
    "# Impor library yang diperlukan\n",
    "from sklearn.datasets import load_iris\n",
    "from sklearn.model_selection import train_test_split\n",
    "from sklearn.naive_bayes import GaussianNB\n",
    "from sklearn.linear_model import LogisticRegression\n",
    "from sklearn.metrics import accuracy_score, classification_report\n",
    "\n",
    "# Load dataset iris sebagai contoh\n",
    "iris = load_iris()\n",
    "X = iris.data\n",
    "y = iris.target\n",
    "\n",
    "# Bagi dataset menjadi data latih dan data uji\n",
    "X_train, X_test, y_train, y_test = train_test_split(X, y, test_size=0.2, random_state=42)\n",
    "\n",
    "# Ganti algoritma Logistic Regression dengan Naive Bayes (Gaussian Naive Bayes)\n",
    "# Gunakan model Naive Bayes\n",
    "naive_bayes_model = GaussianNB()\n",
    "naive_bayes_model.fit(X_train, y_train)\n",
    "\n",
    "# Lakukan prediksi dengan model Naive Bayes\n",
    "naive_bayes_predictions = naive_bayes_model.predict(X_test)\n",
    "\n",
    "# Evaluasi model Naive Bayes\n",
    "accuracy_naive_bayes = accuracy_score(y_test, naive_bayes_predictions)\n",
    "print(f'Naive Bayes Accuracy: {accuracy_naive_bayes}')\n",
    "\n",
    "print('\\nNaive Bayes Classification Report:')\n",
    "print(classification_report(y_test, naive_bayes_predictions))\n",
    "\n",
    "# Ganti algoritma Logistic Regression dengan Logistic Regression (Opsional)\n",
    "logistic_regression_model = LogisticRegression()\n",
    "logistic_regression_model.fit(X_train, y_train)\n",
    "\n",
    "# Lakukan prediksi dengan model Logistic Regression (Opsional)\n",
    "logistic_regression_predictions = logistic_regression_model.predict(X_test)\n",
    "\n",
    "# Evaluasi model Logistic Regression (Opsional)\n",
    "accuracy_logistic_regression = accuracy_score(y_test, logistic_regression_predictions)\n",
    "print(f'Logistic Regression Accuracy: {accuracy_logistic_regression}')\n",
    "\n",
    "print('\\nLogistic Regression Classification Report:')\n",
    "print(classification_report(y_test, logistic_regression_predictions))\n"
   ]
  },
  {
   "cell_type": "code",
   "execution_count": null,
   "id": "22a70102-e759-4cc5-a0db-2b0ad3e5436e",
   "metadata": {},
   "outputs": [],
   "source": []
  },
  {
   "cell_type": "code",
   "execution_count": null,
   "id": "688e914e-f528-4954-ad47-8b8693a12d34",
   "metadata": {},
   "outputs": [],
   "source": []
  }
 ],
 "metadata": {
  "kernelspec": {
   "display_name": "Python 3 (ipykernel)",
   "language": "python",
   "name": "python3"
  },
  "language_info": {
   "codemirror_mode": {
    "name": "ipython",
    "version": 3
   },
   "file_extension": ".py",
   "mimetype": "text/x-python",
   "name": "python",
   "nbconvert_exporter": "python",
   "pygments_lexer": "ipython3",
   "version": "3.12.1"
  }
 },
 "nbformat": 4,
 "nbformat_minor": 5
}
